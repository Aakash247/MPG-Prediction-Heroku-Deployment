{
  "nbformat": 4,
  "nbformat_minor": 0,
  "metadata": {
    "colab": {
      "name": "Heroku Project 3.ipynb",
      "provenance": [],
      "collapsed_sections": []
    },
    "kernelspec": {
      "name": "python3",
      "display_name": "Python 3"
    },
    "language_info": {
      "name": "python"
    }
  },
  "cells": [
    {
      "cell_type": "code",
      "metadata": {
        "id": "NYYnW73QYa21"
      },
      "source": [
        "##importing a few general use case libraries\n",
        "import numpy as np\n",
        "import pandas as pd\n",
        "import matplotlib.pyplot as plt\n",
        "import seaborn as sns\n",
        "\n",
        "from sklearn.model_selection import StratifiedShuffleSplit\n",
        "from sklearn.base import BaseEstimator, TransformerMixin\n",
        "from sklearn.pipeline import Pipeline\n",
        "\n",
        "from sklearn.impute import SimpleImputer\n",
        "from sklearn.preprocessing import StandardScaler, OneHotEncoder\n",
        "from sklearn.compose import ColumnTransformer\n",
        "\n",
        "from sklearn.metrics import r2_score\n",
        "\n",
        "\n",
        "\n",
        "import warnings\n",
        "warnings.filterwarnings('ignore')"
      ],
      "execution_count": null,
      "outputs": []
    },
    {
      "cell_type": "code",
      "metadata": {
        "id": "g4_sePz1iaYz"
      },
      "source": [
        "# reading the .data file using pandas\n",
        "\n",
        "cols = ['MPG','Cylinders','Displacement','Horsepower','Weight',\n",
        "                'Acceleration', 'Model Year', 'Origin']\n",
        "\n",
        "df = pd.read_csv('/content/drive/MyDrive/Project/auto-mpg.data', names=cols, na_values = \"?\",\n",
        "                comment = '\\t',\n",
        "                sep= \" \",\n",
        "                skipinitialspace=True)\n",
        "\n",
        "data = df.copy()"
      ],
      "execution_count": null,
      "outputs": []
    },
    {
      "cell_type": "code",
      "metadata": {
        "id": "fTHrbLdfpGkh"
      },
      "source": [
        "\n",
        "split = StratifiedShuffleSplit(n_splits=1, test_size=0.2, random_state=42)\n",
        "for train_index, test_index in split.split(data, data[\"Cylinders\"]):\n",
        "    strat_train_set = data.loc[train_index]\n",
        "    strat_test_set = data.loc[test_index]"
      ],
      "execution_count": null,
      "outputs": []
    },
    {
      "cell_type": "code",
      "metadata": {
        "id": "XgIPtcgmimD6"
      },
      "source": [
        "data=strat_train_set.drop(\"MPG\",axis=1)\n",
        "data_labels=strat_train_set['MPG'].copy()"
      ],
      "execution_count": null,
      "outputs": []
    },
    {
      "cell_type": "code",
      "metadata": {
        "id": "OojuKjb0i8Gy"
      },
      "source": [
        "def preprocess_origin_cols(df):\n",
        "    df[\"Origin\"] = df[\"Origin\"].map({1: \"India\", 2: \"USA\", 3: \"Germany\"})\n",
        "    return df"
      ],
      "execution_count": null,
      "outputs": []
    },
    {
      "cell_type": "code",
      "metadata": {
        "id": "W1vn_YF_jA9C"
      },
      "source": [
        "acc_ix, hpower_ix, cyl_ix = 4, 2, 0\n",
        "\n",
        "##custom class inheriting the BaseEstimator and TransformerMixin\n",
        "class CustomAttrAdder(BaseEstimator, TransformerMixin):\n",
        "    def __init__(self, acc_on_power=True):\n",
        "        self.acc_on_power = acc_on_power  # new optional variable\n",
        "    def fit(self, X, y=None):\n",
        "        return self  # nothing else to do\n",
        "    def transform(self, X):\n",
        "        acc_on_cyl = X[:, acc_ix] / X[:, cyl_ix] # required new variable\n",
        "        if self.acc_on_power:\n",
        "            acc_on_power = X[:, acc_ix] / X[:, hpower_ix]\n",
        "            return np.c_[X, acc_on_power, acc_on_cyl] # returns a 2D array\n",
        "        \n",
        "        return np.c_[X, acc_on_cyl]"
      ],
      "execution_count": null,
      "outputs": []
    },
    {
      "cell_type": "code",
      "metadata": {
        "id": "nwmEKQCQjJ2y"
      },
      "source": [
        "def num_pipeline_transformer(df):\n",
        "  numerics={'int64','float64'}\n",
        "  num_data=data.select_dtypes(include=numerics)\n",
        "  #pipeline for numerical data\n",
        "  # impute(missing values) -> customclassAdder(to add the custom columns) -> standardScaler\n",
        "  num_pipeline=Pipeline([\n",
        "                        ('imputer',SimpleImputer(strategy=\"median\")),\n",
        "                        ('atters_adder',CustomAttrAdder()),\n",
        "                        ('std-scaler',StandardScaler()),\n",
        "                      ])\n",
        "  return num_data, num_pipeline"
      ],
      "execution_count": null,
      "outputs": []
    },
    {
      "cell_type": "code",
      "metadata": {
        "id": "L8qH1a7FjPS6"
      },
      "source": [
        "def pipeline_transformer(df):\n",
        "  cat_attrs = [\"Origin\"]\n",
        "  num_attrs,num_pipeline=num_pipeline_transformer(df)\n",
        "  ##complete pipeline to transform \n",
        "  ##both numerical and cat. attributes\n",
        "  full_pipeline = ColumnTransformer([\n",
        "          (\"num\", num_pipeline, list(num_attrs)),\n",
        "          (\"cat\", OneHotEncoder(), cat_attrs),\n",
        "      ])\n",
        "  prepared_data = full_pipeline.fit_transform(df)\n",
        "  return prepared_data"
      ],
      "execution_count": null,
      "outputs": []
    },
    {
      "cell_type": "code",
      "metadata": {
        "colab": {
          "base_uri": "https://localhost:8080/"
        },
        "id": "cjNFomV2lgWK",
        "outputId": "bc75b292-7bb9-4f36-ef8f-c19111806d70"
      },
      "source": [
        "##from raw data to processed data in 2 steps\n",
        "preprocessed_df = preprocess_origin_cols(data)\n",
        "prepared_data = pipeline_transformer(preprocessed_df)\n",
        "prepared_data"
      ],
      "execution_count": null,
      "outputs": [
        {
          "output_type": "execute_result",
          "data": {
            "text/plain": [
              "array([[-0.85657842, -1.07804475, -1.15192977, ...,  1.        ,\n",
              "         0.        ,  0.        ],\n",
              "       [-0.85657842, -1.1174582 , -0.9900351 , ...,  0.        ,\n",
              "         0.        ,  1.        ],\n",
              "       [-0.85657842, -0.3587492 , -0.31547399, ...,  0.        ,\n",
              "         1.        ,  0.        ],\n",
              "       ...,\n",
              "       [-0.85657842, -0.56566984, -0.53133355, ...,  0.        ,\n",
              "         1.        ,  0.        ],\n",
              "       [-0.85657842, -0.78244384, -0.23452666, ...,  1.        ,\n",
              "         0.        ,  0.        ],\n",
              "       [ 0.32260746, -0.45728283,  0.44003446, ...,  1.        ,\n",
              "         0.        ,  0.        ]])"
            ]
          },
          "metadata": {
            "tags": []
          },
          "execution_count": 81
        }
      ]
    },
    {
      "cell_type": "code",
      "metadata": {
        "colab": {
          "base_uri": "https://localhost:8080/"
        },
        "id": "F6bT4sTRoY1q",
        "outputId": "fbd274d6-fb35-4edf-bee1-804047987515"
      },
      "source": [
        "from sklearn.linear_model import LinearRegression\n",
        "\n",
        "linear_reg=LinearRegression()\n",
        "linear_reg.fit(prepared_data,data_labels)"
      ],
      "execution_count": null,
      "outputs": [
        {
          "output_type": "execute_result",
          "data": {
            "text/plain": [
              "LinearRegression(copy_X=True, fit_intercept=True, n_jobs=None, normalize=False)"
            ]
          },
          "metadata": {
            "tags": []
          },
          "execution_count": 82
        }
      ]
    },
    {
      "cell_type": "code",
      "metadata": {
        "colab": {
          "base_uri": "https://localhost:8080/"
        },
        "id": "oYmvKWv9qrKJ",
        "outputId": "d54590f8-2a98-4bdf-adb5-4a29051ce9ab"
      },
      "source": [
        "sample_data=data.iloc[:5]\n",
        "sample_data_label=data_labels.iloc[:5]\n",
        "\n",
        "sample_data_prepared=pipeline_transformer(sample_data)\n",
        "\n",
        "print(\"Prediction of sample values:\",linear_reg.predict(sample_data_prepared))"
      ],
      "execution_count": null,
      "outputs": [
        {
          "output_type": "stream",
          "text": [
            "Prediction of sample values: [29.08069379 27.78336755 26.08031176 12.70419279 22.23454159]\n"
          ],
          "name": "stdout"
        }
      ]
    },
    {
      "cell_type": "code",
      "metadata": {
        "colab": {
          "base_uri": "https://localhost:8080/"
        },
        "id": "l0jn_4CkrrHw",
        "outputId": "a6b254f3-a3d5-4425-90d3-7617d98ae960"
      },
      "source": [
        "print(\"Actual Values:\",list(sample_data_label))"
      ],
      "execution_count": null,
      "outputs": [
        {
          "output_type": "stream",
          "text": [
            "Actual Values: [32.0, 31.0, 26.0, 18.0, 26.0]\n"
          ],
          "name": "stdout"
        }
      ]
    },
    {
      "cell_type": "code",
      "metadata": {
        "colab": {
          "base_uri": "https://localhost:8080/"
        },
        "id": "IaKiYybct4xp",
        "outputId": "842cc02a-cd97-43b5-8974-31770daf518e"
      },
      "source": [
        "from sklearn.metrics import mean_squared_error\n",
        "\n",
        "mpg_predictions = linear_reg.predict(prepared_data)\n",
        "lin_mse = mean_squared_error(data_labels, mpg_predictions)\n",
        "lin_rmse = np.sqrt(lin_mse)\n",
        "lin_rmse"
      ],
      "execution_count": null,
      "outputs": [
        {
          "output_type": "execute_result",
          "data": {
            "text/plain": [
              "2.9590402225760872"
            ]
          },
          "metadata": {
            "tags": []
          },
          "execution_count": 85
        }
      ]
    },
    {
      "cell_type": "code",
      "metadata": {
        "colab": {
          "base_uri": "https://localhost:8080/"
        },
        "id": "wmURuCptvVEI",
        "outputId": "52184feb-2d1c-41ab-c013-da752f9f8f26"
      },
      "source": [
        "from sklearn.tree import DecisionTreeRegressor\n",
        "\n",
        "tree_reg = DecisionTreeRegressor()\n",
        "tree_reg.fit(prepared_data, data_labels)"
      ],
      "execution_count": null,
      "outputs": [
        {
          "output_type": "execute_result",
          "data": {
            "text/plain": [
              "DecisionTreeRegressor(ccp_alpha=0.0, criterion='mse', max_depth=None,\n",
              "                      max_features=None, max_leaf_nodes=None,\n",
              "                      min_impurity_decrease=0.0, min_impurity_split=None,\n",
              "                      min_samples_leaf=1, min_samples_split=2,\n",
              "                      min_weight_fraction_leaf=0.0, presort='deprecated',\n",
              "                      random_state=None, splitter='best')"
            ]
          },
          "metadata": {
            "tags": []
          },
          "execution_count": 86
        }
      ]
    },
    {
      "cell_type": "code",
      "metadata": {
        "colab": {
          "base_uri": "https://localhost:8080/"
        },
        "id": "O0wmw7u_vWOY",
        "outputId": "54e09eef-1260-4939-fd1f-43b68d4b0d81"
      },
      "source": [
        "mpg_predictions = tree_reg.predict(prepared_data)\n",
        "tree_mse = mean_squared_error(data_labels, mpg_predictions)\n",
        "tree_rmse = np.sqrt(tree_mse)\n",
        "tree_rmse"
      ],
      "execution_count": null,
      "outputs": [
        {
          "output_type": "execute_result",
          "data": {
            "text/plain": [
              "0.0"
            ]
          },
          "metadata": {
            "tags": []
          },
          "execution_count": 87
        }
      ]
    },
    {
      "cell_type": "code",
      "metadata": {
        "id": "5sT3hbhFwCUQ"
      },
      "source": [
        "from sklearn.model_selection import cross_val_score\n",
        "\n",
        "score=cross_val_score(tree_reg,prepared_data,data_labels,scoring=\"neg_mean_squared_error\",cv=10)\n",
        "rmse_scores=np.sqrt(-score)"
      ],
      "execution_count": null,
      "outputs": []
    },
    {
      "cell_type": "code",
      "metadata": {
        "colab": {
          "base_uri": "https://localhost:8080/"
        },
        "id": "5ZW8q091xUSw",
        "outputId": "9146be18-3b2e-4f1d-c5f0-a13c62e74fda"
      },
      "source": [
        "rmse_scores"
      ],
      "execution_count": null,
      "outputs": [
        {
          "output_type": "execute_result",
          "data": {
            "text/plain": [
              "array([3.29246298, 2.87005009, 2.96431906, 3.26759659, 2.37480262,\n",
              "       3.03865719, 3.44537734, 5.08806815, 4.18337724, 2.56005292])"
            ]
          },
          "metadata": {
            "tags": []
          },
          "execution_count": 89
        }
      ]
    },
    {
      "cell_type": "code",
      "metadata": {
        "colab": {
          "base_uri": "https://localhost:8080/"
        },
        "id": "n3o3LAFdxXMI",
        "outputId": "6a46ef3b-7c9c-4870-da63-60b3a41a150b"
      },
      "source": [
        "rmse_scores.mean()"
      ],
      "execution_count": null,
      "outputs": [
        {
          "output_type": "execute_result",
          "data": {
            "text/plain": [
              "3.3084764190722575"
            ]
          },
          "metadata": {
            "tags": []
          },
          "execution_count": 90
        }
      ]
    },
    {
      "cell_type": "code",
      "metadata": {
        "colab": {
          "base_uri": "https://localhost:8080/"
        },
        "id": "5Uyb96jmxvIZ",
        "outputId": "febbc02b-5a57-4a96-98cc-3abd79663b52"
      },
      "source": [
        "score=cross_val_score(linear_reg,prepared_data,data_labels,scoring=\"neg_mean_squared_error\",cv=10)\n",
        "rmse_scores=np.sqrt(-score)\n",
        "rmse_scores.mean()"
      ],
      "execution_count": null,
      "outputs": [
        {
          "output_type": "execute_result",
          "data": {
            "text/plain": [
              "3.0757081793709333"
            ]
          },
          "metadata": {
            "tags": []
          },
          "execution_count": 91
        }
      ]
    },
    {
      "cell_type": "code",
      "metadata": {
        "colab": {
          "base_uri": "https://localhost:8080/"
        },
        "id": "nvOhBBvDyMrw",
        "outputId": "c7cb25a8-bcec-420c-ee18-5a324984def5"
      },
      "source": [
        "from sklearn.ensemble import RandomForestRegressor\n",
        "\n",
        "forest_reg=RandomForestRegressor()\n",
        "forest_reg.fit(prepared_data,data_labels)\n",
        "score=cross_val_score(forest_reg,prepared_data,data_labels,scoring=\"neg_mean_squared_error\",cv=10)\n",
        "rmse_scores=np.sqrt(-score)\n",
        "rmse_scores.mean()"
      ],
      "execution_count": null,
      "outputs": [
        {
          "output_type": "execute_result",
          "data": {
            "text/plain": [
              "2.579460743437091"
            ]
          },
          "metadata": {
            "tags": []
          },
          "execution_count": 92
        }
      ]
    },
    {
      "cell_type": "code",
      "metadata": {
        "colab": {
          "base_uri": "https://localhost:8080/"
        },
        "id": "NKLk7NMwzCFh",
        "outputId": "4d84b802-bf06-4e63-b665-ae7b44736b99"
      },
      "source": [
        "from sklearn.svm import SVR\n",
        "\n",
        "svm_reg = SVR(kernel='linear')\n",
        "svm_reg.fit(prepared_data, data_labels)\n",
        "svm_cv_scores = cross_val_score(svm_reg, prepared_data, data_labels,\n",
        "                                scoring='neg_mean_squared_error',\n",
        "                                cv = 10)\n",
        "svm_rmse_scores = np.sqrt(-svm_cv_scores)\n",
        "svm_rmse_scores.mean()"
      ],
      "execution_count": null,
      "outputs": [
        {
          "output_type": "execute_result",
          "data": {
            "text/plain": [
              "3.08659162080283"
            ]
          },
          "metadata": {
            "tags": []
          },
          "execution_count": 93
        }
      ]
    },
    {
      "cell_type": "code",
      "metadata": {
        "colab": {
          "base_uri": "https://localhost:8080/"
        },
        "id": "P3SWdbRv3gww",
        "outputId": "d4278172-0b47-436d-933e-b1fc92197b15"
      },
      "source": [
        "#since we know the best model in this case is random forest we try to find the best parameters so to improve the accuracy\n",
        "#we hypetune the paramter using GridSearchCV\n",
        "\n",
        "from sklearn.model_selection import GridSearchCV\n",
        "\n",
        "param_grid=[{'n_estimators':[3,10,30],'max_features':[2,4,6,8]},\n",
        "            {'bootstrap':[False], 'n_estimators':[3,10], 'max_features':[2,3,4]}]\n",
        "\n",
        "forest_reg=RandomForestRegressor()\n",
        "\n",
        "grid_search=GridSearchCV(forest_reg,param_grid,scoring='neg_mean_squared_error',return_train_score=True,cv=10)\n",
        "\n",
        "grid_search.fit(prepared_data,data_labels)"
      ],
      "execution_count": null,
      "outputs": [
        {
          "output_type": "execute_result",
          "data": {
            "text/plain": [
              "GridSearchCV(cv=10, error_score=nan,\n",
              "             estimator=RandomForestRegressor(bootstrap=True, ccp_alpha=0.0,\n",
              "                                             criterion='mse', max_depth=None,\n",
              "                                             max_features='auto',\n",
              "                                             max_leaf_nodes=None,\n",
              "                                             max_samples=None,\n",
              "                                             min_impurity_decrease=0.0,\n",
              "                                             min_impurity_split=None,\n",
              "                                             min_samples_leaf=1,\n",
              "                                             min_samples_split=2,\n",
              "                                             min_weight_fraction_leaf=0.0,\n",
              "                                             n_estimators=100, n_jobs=None,\n",
              "                                             oob_score=False, random_state=None,\n",
              "                                             verbose=0, warm_start=False),\n",
              "             iid='deprecated', n_jobs=None,\n",
              "             param_grid=[{'max_features': [2, 4, 6, 8],\n",
              "                          'n_estimators': [3, 10, 30]},\n",
              "                         {'bootstrap': [False], 'max_features': [2, 3, 4],\n",
              "                          'n_estimators': [3, 10]}],\n",
              "             pre_dispatch='2*n_jobs', refit=True, return_train_score=True,\n",
              "             scoring='neg_mean_squared_error', verbose=0)"
            ]
          },
          "metadata": {
            "tags": []
          },
          "execution_count": 94
        }
      ]
    },
    {
      "cell_type": "code",
      "metadata": {
        "colab": {
          "base_uri": "https://localhost:8080/"
        },
        "id": "kSq3LcV75qAx",
        "outputId": "7c269667-79fa-44ad-8387-5928b083e58a"
      },
      "source": [
        "grid_search.best_params_"
      ],
      "execution_count": null,
      "outputs": [
        {
          "output_type": "execute_result",
          "data": {
            "text/plain": [
              "{'max_features': 8, 'n_estimators': 30}"
            ]
          },
          "metadata": {
            "tags": []
          },
          "execution_count": 95
        }
      ]
    },
    {
      "cell_type": "code",
      "metadata": {
        "colab": {
          "base_uri": "https://localhost:8080/"
        },
        "id": "SneL35Qd59-3",
        "outputId": "1b2044c4-bdc7-43ab-aa15-9ec8f04aff4e"
      },
      "source": [
        "cv_scores = grid_search.cv_results_\n",
        "\n",
        "##printing all the parameters along with their scores\n",
        "for mean_score, params in zip(cv_scores['mean_test_score'], cv_scores[\"params\"]):\n",
        "    print(np.sqrt(-mean_score), params)"
      ],
      "execution_count": null,
      "outputs": [
        {
          "output_type": "stream",
          "text": [
            "3.3310735451595255 {'max_features': 2, 'n_estimators': 3}\n",
            "3.1317069446384624 {'max_features': 2, 'n_estimators': 10}\n",
            "2.877361994799055 {'max_features': 2, 'n_estimators': 30}\n",
            "3.2736159145376202 {'max_features': 4, 'n_estimators': 3}\n",
            "2.991366554083116 {'max_features': 4, 'n_estimators': 10}\n",
            "2.7990124624604587 {'max_features': 4, 'n_estimators': 30}\n",
            "3.3067071143305324 {'max_features': 6, 'n_estimators': 3}\n",
            "2.768742858433956 {'max_features': 6, 'n_estimators': 10}\n",
            "2.753241980547627 {'max_features': 6, 'n_estimators': 30}\n",
            "3.1744770510260487 {'max_features': 8, 'n_estimators': 3}\n",
            "2.8133107809844304 {'max_features': 8, 'n_estimators': 10}\n",
            "2.725966951973682 {'max_features': 8, 'n_estimators': 30}\n",
            "3.333322177400686 {'bootstrap': False, 'max_features': 2, 'n_estimators': 3}\n",
            "2.8805578388051183 {'bootstrap': False, 'max_features': 2, 'n_estimators': 10}\n",
            "3.0613128779558534 {'bootstrap': False, 'max_features': 3, 'n_estimators': 3}\n",
            "2.8201015213509257 {'bootstrap': False, 'max_features': 3, 'n_estimators': 10}\n",
            "3.1855351664351446 {'bootstrap': False, 'max_features': 4, 'n_estimators': 3}\n",
            "2.781117262145998 {'bootstrap': False, 'max_features': 4, 'n_estimators': 10}\n"
          ],
          "name": "stdout"
        }
      ]
    },
    {
      "cell_type": "code",
      "metadata": {
        "colab": {
          "base_uri": "https://localhost:8080/"
        },
        "id": "xn08B-9E6aWO",
        "outputId": "588d52a0-08a2-4d80-809e-bcad7d1419ae"
      },
      "source": [
        "feature_importance=grid_search.best_estimator_.feature_importances_\n",
        "feature_importance"
      ],
      "execution_count": null,
      "outputs": [
        {
          "output_type": "execute_result",
          "data": {
            "text/plain": [
              "array([0.13735092, 0.29609195, 0.13084366, 0.24382932, 0.01564226,\n",
              "       0.11475719, 0.03301246, 0.02172493, 0.0021654 , 0.00233959,\n",
              "       0.00224233])"
            ]
          },
          "metadata": {
            "tags": []
          },
          "execution_count": 97
        }
      ]
    },
    {
      "cell_type": "code",
      "metadata": {
        "colab": {
          "base_uri": "https://localhost:8080/"
        },
        "id": "tsLIchUk6hSN",
        "outputId": "e057aec1-270d-4071-fa5d-27e72e249888"
      },
      "source": [
        "extra_attrs=[\"acconpower\",\"acconcylinder\"]\n",
        "numerics={'int64','float64'}\n",
        "num_attrs=list(data.select_dtypes(include=numerics))\n",
        "attrs=num_attrs+extra_attrs\n",
        "sorted(zip(attrs, feature_importance), reverse=True)"
      ],
      "execution_count": null,
      "outputs": [
        {
          "output_type": "execute_result",
          "data": {
            "text/plain": [
              "[('acconpower', 0.033012464883022785),\n",
              " ('acconcylinder', 0.021724931770768636),\n",
              " ('Weight', 0.24382932103421512),\n",
              " ('Model Year', 0.11475718846462013),\n",
              " ('Horsepower', 0.13084366267641367),\n",
              " ('Displacement', 0.29609194517379867),\n",
              " ('Cylinders', 0.1373509176178564),\n",
              " ('Acceleration', 0.01564225766012984)]"
            ]
          },
          "metadata": {
            "tags": []
          },
          "execution_count": 98
        }
      ]
    },
    {
      "cell_type": "code",
      "metadata": {
        "colab": {
          "base_uri": "https://localhost:8080/"
        },
        "id": "_OKsatET7wcv",
        "outputId": "1d0537e4-c1f1-4575-8f3b-45d73bce60a3"
      },
      "source": [
        "final_model=grid_search.best_estimator_\n",
        "\n",
        "X_test=strat_test_set.drop(\"MPG\",axis=1)\n",
        "y_test=strat_test_set.copy()['MPG']\n",
        "\n",
        "X_test_preprocessed=preprocess_origin_cols(X_test)\n",
        "X_test_prepared=pipeline_transformer(X_test_preprocessed)\n",
        "\n",
        "final_prediction=final_model.predict(X_test_prepared)\n",
        "final_mse = mean_squared_error(y_test, final_prediction)\n",
        "final_rmse = np.sqrt(final_mse)\n",
        "final_rmse"
      ],
      "execution_count": null,
      "outputs": [
        {
          "output_type": "execute_result",
          "data": {
            "text/plain": [
              "2.906789776635999"
            ]
          },
          "metadata": {
            "tags": []
          },
          "execution_count": 99
        }
      ]
    },
    {
      "cell_type": "code",
      "metadata": {
        "id": "ZmjVLrNj9vfW"
      },
      "source": [
        "#Creating a function to cover this entire flow\n",
        "def predict_mpg(config, model):\n",
        "    \n",
        "    if type(config) == dict:\n",
        "        df = pd.DataFrame(config)\n",
        "    else:\n",
        "        df = config\n",
        "    \n",
        "    preproc_df = preprocess_origin_cols(df)\n",
        "    prepared_df = pipeline_transformer(preproc_df)\n",
        "    y_pred = model.predict(prepared_df)\n",
        "    return y_pred"
      ],
      "execution_count": null,
      "outputs": []
    },
    {
      "cell_type": "code",
      "metadata": {
        "colab": {
          "base_uri": "https://localhost:8080/"
        },
        "id": "y-uZ24C293EY",
        "outputId": "ce987626-1694-49a0-a4e9-72d8264d846d"
      },
      "source": [
        "##checking it on a random sample\n",
        "vehicle_config = {\n",
        "    'Cylinders': [4, 6, 8],\n",
        "    'Displacement': [155.0, 160.0, 165.5],\n",
        "    'Horsepower': [93.0, 130.0, 98.0],\n",
        "    'Weight': [2500.0, 3150.0, 2600.0],\n",
        "    'Acceleration': [15.0, 14.0, 16.0],\n",
        "    'Model Year': [81, 80, 78],\n",
        "    'Origin': [3, 2, 1]\n",
        "}\n",
        "\n",
        "predict_mpg(vehicle_config, final_model)"
      ],
      "execution_count": null,
      "outputs": [
        {
          "output_type": "execute_result",
          "data": {
            "text/plain": [
              "array([32.31333333, 17.37666667, 23.36333333])"
            ]
          },
          "metadata": {
            "tags": []
          },
          "execution_count": 101
        }
      ]
    },
    {
      "cell_type": "code",
      "metadata": {
        "id": "9gAJcZDk-ewF"
      },
      "source": [
        "#save the model\n",
        "\n",
        "import pickle"
      ],
      "execution_count": null,
      "outputs": []
    },
    {
      "cell_type": "code",
      "metadata": {
        "id": "wWiwH1CR-iUH"
      },
      "source": [
        "with open(\"model.bin\", 'wb') as f_out:\n",
        "    pickle.dump(final_model, f_out)\n",
        "    f_out.close()"
      ],
      "execution_count": null,
      "outputs": []
    },
    {
      "cell_type": "code",
      "metadata": {
        "id": "4OBpJ84x-lM-",
        "colab": {
          "base_uri": "https://localhost:8080/"
        },
        "outputId": "cd9b073a-4b02-43eb-9e3c-c3203942469b"
      },
      "source": [
        "##loading the model from the saved file\n",
        "with open('model.bin', 'rb') as f_in:\n",
        "    model = pickle.load(f_in)\n",
        "\n",
        "predict_mpg(vehicle_config, model)"
      ],
      "execution_count": null,
      "outputs": [
        {
          "output_type": "execute_result",
          "data": {
            "text/plain": [
              "array([32.31333333, 17.37666667, 23.36333333])"
            ]
          },
          "metadata": {
            "tags": []
          },
          "execution_count": 104
        }
      ]
    }
  ]
}